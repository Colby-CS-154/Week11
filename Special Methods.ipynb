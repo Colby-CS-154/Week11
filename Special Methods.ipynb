{
 "cells": [
  {
   "cell_type": "markdown",
   "metadata": {},
   "source": [
    "## Helpful information about classes\n",
    "\n",
    "As specified before that the class we inherit from is known as a super class and a class we inherit into is a sub-class. \n",
    "\n",
    "From our popular example, `Pet` is a super class and `Dog`, `Cat`, and other pets are sub-classes. \n",
    "\n",
    "In the following code snippet, we can access the attributes and the methods of the super class"
   ]
  },
  {
   "cell_type": "code",
   "execution_count": 1,
   "metadata": {},
   "outputs": [],
   "source": [
    "from abc import ABC\n",
    "\n",
    "class University(ABC):\n",
    "\n",
    "    location: str\n",
    "    acceptance_rate: float = 0.5\n",
    "\n",
    "    def enroll_student(self):\n",
    "        print(\"Student is required to graduate from high school\")\n",
    "\n",
    "\n",
    "class PublicUniversity(University):\n",
    "\n",
    "    name: str = \"University of Maine\"\n",
    "    number_of_students = 10\n",
    "\n",
    "    def enroll_student(self):\n",
    "        super().enroll_student()\n",
    "        print(f\"The acceptance rate is: {super().acceptance_rate}\")\n",
    "        print(\"Student is required to have SAT, ACT, and GPA\")\n",
    "\n",
    "class PrivateUniversity(University):\n",
    "    pass\n",
    "\n",
    "\n"
   ]
  },
  {
   "cell_type": "code",
   "execution_count": 2,
   "metadata": {},
   "outputs": [],
   "source": [
    "UMaine = PublicUniversity()"
   ]
  },
  {
   "cell_type": "markdown",
   "metadata": {},
   "source": [
    "## Special methods\n",
    "\n",
    "Apart from the traditional methods in a class, you can also write special methods in Python that allow you to use some of the functions that you like to use. For example `print` and `len` method. \n",
    "\n",
    "Right now, if I print a `PublicUniversity` object, I get a weird string"
   ]
  },
  {
   "cell_type": "code",
   "execution_count": 3,
   "metadata": {},
   "outputs": [
    {
     "name": "stdout",
     "output_type": "stream",
     "text": [
      "<__main__.PublicUniversity object at 0x10dd2d050>\n"
     ]
    }
   ],
   "source": [
    "print(UMaine) "
   ]
  },
  {
   "cell_type": "markdown",
   "metadata": {},
   "source": [
    "But if I define a `__str__` method in the PublicUniversity class, I can then call the print function"
   ]
  },
  {
   "cell_type": "code",
   "execution_count": 4,
   "metadata": {},
   "outputs": [],
   "source": [
    "class PublicUniversity(University):\n",
    "\n",
    "    name: str = \"University of Maine\"\n",
    "    number_of_students = 10\n",
    "\n",
    "    def enroll_student(self):\n",
    "        super().enroll_student()\n",
    "        print(f\"The acceptance rate is: {super().acceptance_rate}\")\n",
    "        print(\"Student is required to have SAT, ACT, and GPA\")\n",
    "\n",
    "    def __str__(self):\n",
    "        return f\"This is {self.name}. This university has {self.number_of_students} students.\"\n"
   ]
  },
  {
   "cell_type": "code",
   "execution_count": 5,
   "metadata": {},
   "outputs": [
    {
     "name": "stdout",
     "output_type": "stream",
     "text": [
      "This is University of Maine. This university has 10 students.\n"
     ]
    }
   ],
   "source": [
    "UMaine = PublicUniversity()\n",
    "print(UMaine)"
   ]
  },
  {
   "cell_type": "markdown",
   "metadata": {},
   "source": [
    "We can also define a special method to use the `len` function. "
   ]
  },
  {
   "cell_type": "code",
   "execution_count": 6,
   "metadata": {},
   "outputs": [],
   "source": [
    "class PublicUniversity(University):\n",
    "\n",
    "    name: str = \"University of Maine\"\n",
    "    number_of_students = 10\n",
    "\n",
    "    def enroll_student(self):\n",
    "        super().enroll_student()\n",
    "        print(f\"The acceptance rate is: {super().acceptance_rate}\")\n",
    "        print(\"Student is required to have SAT, ACT, and GPA\")\n",
    "\n",
    "    \n",
    "    def __str__(self):\n",
    "        return f\"This is {self.name}. This university has {self.number_of_students} students.\"\n",
    "\n",
    "    def __len__(self):\n",
    "        return self.number_of_students\n"
   ]
  },
  {
   "cell_type": "code",
   "execution_count": 8,
   "metadata": {},
   "outputs": [
    {
     "name": "stdout",
     "output_type": "stream",
     "text": [
      "This is University of Maine. This university has 10 students.\n"
     ]
    },
    {
     "data": {
      "text/plain": [
       "10"
      ]
     },
     "execution_count": 8,
     "metadata": {},
     "output_type": "execute_result"
    }
   ],
   "source": [
    "UMaine = PublicUniversity()\n",
    "print(UMaine)\n",
    "\n",
    "len(UMaine)"
   ]
  }
 ],
 "metadata": {
  "kernelspec": {
   "display_name": "colby",
   "language": "python",
   "name": "python3"
  },
  "language_info": {
   "codemirror_mode": {
    "name": "ipython",
    "version": 3
   },
   "file_extension": ".py",
   "mimetype": "text/x-python",
   "name": "python",
   "nbconvert_exporter": "python",
   "pygments_lexer": "ipython3",
   "version": "3.11.9"
  }
 },
 "nbformat": 4,
 "nbformat_minor": 2
}
