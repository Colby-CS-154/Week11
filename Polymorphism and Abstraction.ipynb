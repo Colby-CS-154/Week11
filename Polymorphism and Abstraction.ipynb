{
 "cells": [
  {
   "cell_type": "markdown",
   "metadata": {},
   "source": [
    "## Review\n",
    "\n",
    "Q1. What are the four pillars of Object Oriented Programming (OOP)?  \n",
    "Q2. What does each letter mean?  \n",
    "Q3. What is inheritence? How do you check if a class should inherit from something?"
   ]
  },
  {
   "cell_type": "markdown",
   "metadata": {},
   "source": [
    "In the following classes, let's see which classes can be connected with a \"is a\" relation and \"has a\" relation"
   ]
  },
  {
   "cell_type": "code",
   "execution_count": 1,
   "metadata": {},
   "outputs": [],
   "source": [
    "class University:\n",
    "    pass\n",
    "\n",
    "class Department:\n",
    "    pass\n",
    "\n",
    "class Student:\n",
    "    pass\n",
    "\n",
    "class CSDepartment:\n",
    "    pass\n",
    "\n",
    "class MathDepartment:\n",
    "    pass\n",
    "\n",
    "class ColbyCollege:\n",
    "    pass\n",
    "    \n",
    "class UndergraduateStudent:\n",
    "    pass\n",
    "\n",
    "class Course:\n",
    "    pass"
   ]
  },
  {
   "cell_type": "markdown",
   "metadata": {},
   "source": [
    "### \"is a\" relation\n",
    "\n",
    "`CSDepartment` is a `Department`\n",
    "`MathDeparmtent` is a `Department`\n",
    "`ColbyCollege` is a `University`\n",
    "`UndergraduateStudent` is a `Student`\n",
    "\n",
    "```python\n",
    "# CSDepartment inherits from Department\n",
    "class CSDepartment(Department):\n",
    "    pass\n",
    "\n",
    "\n",
    "# MathDepartment inherits from Department\n",
    "class MathDepartment(Department):\n",
    "    pass\n",
    "\n",
    "# ColbyCollege inherits from University\n",
    "class ColbyCollege(University):\n",
    "    pass\n",
    "\n",
    "# UndergraduateStudent inherits from Student\n",
    "class UndergraduateStudent(Student):\n",
    "    pass\n",
    "```\n",
    "\n",
    "### \"has a\" relation\n",
    "\n",
    "`University` has a `Department`\n",
    "```python\n",
    "\n",
    "class University:\n",
    "    # departments is an attribute\n",
    "    departments: list[Department]\n",
    "\n",
    "```\n",
    "`University` has a `Student`\n",
    "\n",
    "```python\n",
    "class University:\n",
    "\n",
    "    departments: list[Department]\n",
    "    students: list[Student]\n",
    "```\n",
    "\n",
    "`Department` has a `Student`\n",
    "\n",
    "```python\n",
    "class Department:\n",
    "\n",
    "    students: list[Student]\n",
    "```"
   ]
  },
  {
   "cell_type": "markdown",
   "metadata": {},
   "source": [
    "## Polymorphism\n",
    "\n",
    "The idea of polymorphism is to use a single thing (such as method or class) for different behavior or types. As the name suggests \"poly\" meaning many and \"morph\" meaning structure or form.  \n",
    "\n",
    "Let's take a look at an example"
   ]
  },
  {
   "cell_type": "markdown",
   "metadata": {},
   "source": [
    "In the `Student` class, we have a constructor (the `__init__` method) and we have described the that it should take two attributes - `name` and `major`. However, note that we have also assigned a default value to the `major` attribute. Therefore, in case we do not provide the value to `major`, it will be automatically assigned to \"Undecided\""
   ]
  },
  {
   "cell_type": "code",
   "execution_count": 2,
   "metadata": {},
   "outputs": [],
   "source": [
    "class Student: \n",
    "\n",
    "    def __init__(self, name: str, major: str = \"Undecided\"):\n",
    "        self.name = name\n",
    "        self.major = major"
   ]
  },
  {
   "cell_type": "code",
   "execution_count": 3,
   "metadata": {},
   "outputs": [
    {
     "name": "stdout",
     "output_type": "stream",
     "text": [
      "Undecided\n",
      "Jane Doe\n"
     ]
    }
   ],
   "source": [
    "John = Student(\"John Doe\")\n",
    "print(John.major)\n",
    "\n",
    "\n",
    "Jane = Student(\"Jane Doe\", \"Computer Science\")\n",
    "print(Jane.name)"
   ]
  },
  {
   "cell_type": "markdown",
   "metadata": {},
   "source": [
    "We see in the above snippet that even though we are using the same constructor, the value of the attribute `major` changes based on the values we provide to the parameter\n",
    "\n",
    "Similarly, in the `Pet` class below we provide default values for `colby_id` and `weight`"
   ]
  },
  {
   "cell_type": "code",
   "execution_count": 4,
   "metadata": {},
   "outputs": [],
   "source": [
    "# Class Pet has an attribute owner and the value of owner is a Student object. \n",
    "class Pet:\n",
    "\n",
    "    def __init__(self, owner: Student, name: str, colby_id: int = 12345, weight: float = 15):\n",
    "        self.owner = owner\n",
    "        self.name = name\n",
    "        self.colby_id = colby_id\n",
    "        self.weight = weight"
   ]
  },
  {
   "cell_type": "code",
   "execution_count": 5,
   "metadata": {},
   "outputs": [],
   "source": [
    "Lex = Student(\"Lex\", \"Computer Science\")\n",
    "rufus = Pet(name=\"Rufus\", owner=Lex, colby_id=12345, weight=10)"
   ]
  },
  {
   "cell_type": "code",
   "execution_count": 6,
   "metadata": {},
   "outputs": [
    {
     "data": {
      "text/plain": [
       "10"
      ]
     },
     "execution_count": 6,
     "metadata": {},
     "output_type": "execute_result"
    }
   ],
   "source": [
    "rufus.weight"
   ]
  },
  {
   "cell_type": "markdown",
   "metadata": {},
   "source": [
    "**Side Note**: In inheritence, we use the term super and sub class to describe the hierarchy. If a `CSDepartment` class inherits from `Department` class, then `Department` is the super class and the `CSDepartment` is a sub-class."
   ]
  },
  {
   "cell_type": "markdown",
   "metadata": {},
   "source": [
    "## Abstraction\n",
    "\n",
    "Another important aspect of Object-Oriented programming is abstraction where we do not provide any details. This is helpful in when we do not know how to implement a method for every class but we know that a class must have that method. \n",
    "\n",
    "Consider an example for `Vehicle`, where know that every type of `Vehicle` should have a `start` method. However, the process of starting a `Car` would be different than a `Boat` which would be different from `Plane`. \n",
    "\n",
    "To implement these behaviors, we use the `ABC` class and the `abstractmethod` method.\n",
    "`ABC` stands for Abstract Base Class and you can read more about it in Python documentation."
   ]
  },
  {
   "cell_type": "code",
   "execution_count": 7,
   "metadata": {},
   "outputs": [],
   "source": [
    "from abc import ABC, abstractmethod\n",
    "\n",
    "# The Vehicle class inherits from Abstract Base Class (ABC)\n",
    "class Vehicle(ABC):\n",
    "\n",
    "    seats: int\n",
    "\n",
    "    def __init__(self, seats: int):\n",
    "        self.seats = seats\n",
    "\n",
    "    # The following line of @abstractmethod over a method is known as a decorator. \n",
    "    # By \"declaring\" `start` as an abstract method, we enforce that any sub class\n",
    "    # of Vehicle that does not implement `start` will not be able to create any object\n",
    "    @abstractmethod\n",
    "    def start(self):\n",
    "        pass\n",
    "\n",
    "    # Similar to `start`, we want to have an abstract method `move`.\n",
    "    @abstractmethod\n",
    "    def move(self):\n",
    "        pass\n",
    "\n",
    "# Car is a Vehicle therefore, Car can inherit from Vehicle\n",
    "class Car(Vehicle):\n",
    "\n",
    "    number_of_wheels: int = 4\n",
    "    \n",
    "    def move(self):\n",
    "        print(\"Moves on road\")\n",
    "    \n",
    "    def start(self):\n",
    "        print(f\"Makes vroom vroom sound\")\n",
    "\n",
    "\n",
    "class Boat(Vehicle):\n",
    "\n",
    "    motor_power: int = 100\n",
    "\n",
    "    def move(self):\n",
    "        print(\"Moves in water\")\n",
    "    \n",
    "    # We have not defined `start` method\n",
    "\n",
    "class Plane(Vehicle):\n",
    "\n",
    "    number_of_engines: int = 5\n",
    "\n",
    "    # We have not defined any of the abstract methods specified in Vehicle\n"
   ]
  },
  {
   "cell_type": "code",
   "execution_count": 8,
   "metadata": {},
   "outputs": [
    {
     "name": "stdout",
     "output_type": "stream",
     "text": [
      "Moves on road\n"
     ]
    }
   ],
   "source": [
    "# This would work fine\n",
    "car = Car(5)\n",
    "car.move()"
   ]
  },
  {
   "cell_type": "code",
   "execution_count": 9,
   "metadata": {},
   "outputs": [],
   "source": [
    "# The following line will cause an error until you create a `start` method\n",
    "# boat = Boat()"
   ]
  },
  {
   "cell_type": "code",
   "execution_count": 10,
   "metadata": {},
   "outputs": [],
   "source": [
    "# The following line will cause an error until you create both `start` and `move` methods\n",
    "# plane = Plane()"
   ]
  }
 ],
 "metadata": {
  "kernelspec": {
   "display_name": "colby",
   "language": "python",
   "name": "python3"
  },
  "language_info": {
   "codemirror_mode": {
    "name": "ipython",
    "version": 3
   },
   "file_extension": ".py",
   "mimetype": "text/x-python",
   "name": "python",
   "nbconvert_exporter": "python",
   "pygments_lexer": "ipython3",
   "version": "3.11.9"
  }
 },
 "nbformat": 4,
 "nbformat_minor": 2
}
