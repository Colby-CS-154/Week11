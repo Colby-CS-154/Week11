{
 "cells": [
  {
   "cell_type": "markdown",
   "metadata": {},
   "source": [
    "Q1. How many modules are there in this repo?\n",
    "\n",
    "Q2. How do get the functions from each python file\n",
    "\n",
    "Q3. How to read/write files?"
   ]
  },
  {
   "cell_type": "code",
   "execution_count": 26,
   "metadata": {},
   "outputs": [
    {
     "name": "stdout",
     "output_type": "stream",
     "text": [
      "Hello world\n"
     ]
    },
    {
     "data": {
      "text/plain": [
       "24"
      ]
     },
     "execution_count": 26,
     "metadata": {},
     "output_type": "execute_result"
    }
   ],
   "source": [
    "# A few ways of importing things from modules\n",
    "\n",
    "from more_functions import *\n",
    "\n",
    "import some_functions\n",
    "\n",
    "some_functions.foo()\n",
    "\n",
    "from more_functions import bar_foo\n",
    "\n",
    "bar_foo(12, 12.5)\n"
   ]
  },
  {
   "cell_type": "markdown",
   "metadata": {},
   "source": [
    "There are primarily three modes for manipulating a file - read, write, and append.\n"
   ]
  },
  {
   "cell_type": "code",
   "execution_count": 8,
   "metadata": {},
   "outputs": [
    {
     "name": "stdout",
     "output_type": "stream",
     "text": [
      "['This is a test file', 'I want to read the contents of this file.']\n"
     ]
    }
   ],
   "source": [
    "with open('some_file.txt', 'r') as file:\n",
    "    lines_in_file = file.read()\n",
    "\n",
    "print(lines_in_file.split('\\n'))"
   ]
  },
  {
   "cell_type": "code",
   "execution_count": 10,
   "metadata": {},
   "outputs": [],
   "source": [
    "with open('some_file.txt', 'w') as file:\n",
    "    file.write(\"Hello everyone\")"
   ]
  },
  {
   "cell_type": "markdown",
   "metadata": {},
   "source": [
    "## Inheritence\n",
    "\n",
    "There are 4 pillars of object-oriented programming that we can remember using A PIE - \n",
    "\n",
    "* A - Abstraction\n",
    "* P - Polymorphism\n",
    "* I - Inheritence\n",
    "* E - Encapsulation"
   ]
  },
  {
   "cell_type": "markdown",
   "metadata": {},
   "source": [
    "First, let's look at Inheritence"
   ]
  },
  {
   "cell_type": "code",
   "execution_count": 29,
   "metadata": {},
   "outputs": [],
   "source": [
    "class Pet:\n",
    "    \"\"\"This class represents a generic Pet class.\"\"\"\n",
    "\n",
    "    # The attributes that any pet should have \n",
    "    name: str\n",
    "    owner: str\n",
    "    age: int\n",
    "    species: str\n",
    "    color: str\n",
    "    weight: float\n",
    "\n",
    "    # Constructor method\n",
    "    # Note that I have assigned some default values to each parameter in the constructor\n",
    "    def __init__(self, name = \"Bruce\", owner = \"VJ\", age = 10, species = \"Foo\"):\n",
    "        self.name = name\n",
    "        self.owner = owner\n",
    "        self.age = age\n",
    "        self.species = species\n",
    "        self.speak()\n",
    "\n",
    "    \n",
    "    # A method is used to modify the attributes of the class or implement a behavior that a class must do   \n",
    "    def speak(self):\n",
    "        print(f\"Hi, my name is {self.name}. My owner is {self.owner}. I am {self.age} years old.\")\n",
    "\n",
    "# This is how you inherit the attributes and methods of the class Dog\n",
    "class Dog(Pet):\n",
    "\n",
    "    #  When inheriting, the class might need additional attributes that are only\n",
    "    # relevant to this class and not other classes ()\n",
    "    tail_length: float # Maybe relevant for other pets but not for every pet, consider spiders or snakes!\n",
    "    bark_type: str # Relevant only for dogs\n",
    "\n",
    "    def calculate_age_in_dog_years(self):\n",
    "        return self.age * 7\n",
    "    \n",
    "\n",
    "    def tell_me_your_age(self):\n",
    "        print(f\"My age is {self.calculate_age_in_dog_years()}\")\n",
    "\n",
    "\n",
    "# Note that while Husky inherits from the class Dog, it also inherits the attributes from Pet\n",
    "class Husky(Dog):\n",
    "\n",
    "    pass"
   ]
  },
  {
   "cell_type": "code",
   "execution_count": 32,
   "metadata": {},
   "outputs": [
    {
     "name": "stdout",
     "output_type": "stream",
     "text": [
      "Hi, my name is Bruce. My owner is VJ. I am 10 years old.\n"
     ]
    }
   ],
   "source": [
    "# Since I do not provide any specific value to the constructor, the constructor uses the default values. \n",
    "# Note: When we create an object, we are calling the constructor method\n",
    "a_dog = Dog()"
   ]
  },
  {
   "cell_type": "code",
   "execution_count": 33,
   "metadata": {},
   "outputs": [
    {
     "name": "stdout",
     "output_type": "stream",
     "text": [
      "Hi, my name is Spike. My owner is Lee. I am 12 years old.\n"
     ]
    }
   ],
   "source": [
    "# When creating an object, or calling a function, we can change the order of the parameters by specifying their names.\n",
    "# If we change the order of the values without specifying the name of the parameters, the constructor will assign them \n",
    "# in order when they were defined in\n",
    "new_dog = Dog(age=12, name=\"Spike\", owner=\"Lee\", species = \"Pug\")\n"
   ]
  },
  {
   "cell_type": "markdown",
   "metadata": {},
   "source": [
    "### Is-a Relationship\n",
    "\n",
    "When thinking of inheritence, always use the \"is a\" relation to test if you should inherit from a class or not. \n",
    "\n",
    "For example,\n",
    "* Dog is a Pet, therefore the class `Dog` can inherit from the `Pet` class. \n",
    "* Cat is a Pet, therefore the class `Cat` can inherit from the `Pet` class.\n",
    "* Husky is a Dog, therefore the class `Husky` can inherit from the `Dog` class.\n"
   ]
  },
  {
   "cell_type": "markdown",
   "metadata": {},
   "source": [
    "### Has-a Relationship\n",
    "\n",
    "Another type of relation to know is \"has a\" relation. \n",
    "\n",
    "For example, when creating two classes - `Bank` and `Account`. A `Bank` has a `Account`, therefore one of the attributes can be `Account`"
   ]
  },
  {
   "cell_type": "code",
   "execution_count": 36,
   "metadata": {},
   "outputs": [],
   "source": [
    "class Account:\n",
    "    balance: float\n",
    "    name: str\n",
    "\n",
    "    # Some additional methods\n",
    "\n",
    "    def withdraw():\n",
    "        pass\n",
    "\n",
    "    def deposit():\n",
    "        pass\n",
    "\n",
    "    def checkbalance():\n",
    "        pass\n",
    "\n",
    "\n",
    "class Bank:\n",
    "\n",
    "    number_of_accounts: int\n",
    "    total_balance: float\n",
    "    interest_rate: float\n",
    "    list_of_all_accounts: list[Account]"
   ]
  }
 ],
 "metadata": {
  "kernelspec": {
   "display_name": "colby",
   "language": "python",
   "name": "python3"
  },
  "language_info": {
   "codemirror_mode": {
    "name": "ipython",
    "version": 3
   },
   "file_extension": ".py",
   "mimetype": "text/x-python",
   "name": "python",
   "nbconvert_exporter": "python",
   "pygments_lexer": "ipython3",
   "version": "3.11.9"
  }
 },
 "nbformat": 4,
 "nbformat_minor": 2
}
